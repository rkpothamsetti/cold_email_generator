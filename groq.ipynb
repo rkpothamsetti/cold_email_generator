{
 "cells": [
  {
   "cell_type": "code",
   "execution_count": 2,
   "metadata": {},
   "outputs": [
    {
     "name": "stdout",
     "output_type": "stream",
     "text": [
      "Elon Musk is a South African-born entrepreneur, inventor, and business magnate. He is best known for his ambitious goals in revolutionizing transportation, energy, and space exploration. Here are some of his notable achievements and ventures:\n",
      "\n",
      "**Early Life and Education**\n",
      "\n",
      "Musk was born on June 28, 1971, in Pretoria, South Africa. He developed an interest in computing and programming at an early age and taught himself computer programming. He moved to Canada in 1992 to attend college, and later transferred to the University of Pennsylvania, where he graduated with a degree in economics and physics.\n",
      "\n",
      "**Career**\n",
      "\n",
      "Musk's career can be divided into several phases:\n",
      "\n",
      "1. **Zip2 and X.com**: Musk's first company was Zip2, which provided online content publishing software for news organizations. In 1999, he co-founded X.com, which later became PayPal, an online payment system that was acquired by eBay for $1.5 billion in 2002.\n",
      "2. **SpaceX**: In 2002, Musk founded SpaceX, with the goal of reducing space transportation costs and enabling the colonization of Mars. SpaceX has since become a leading player in the private space industry, with numerous successful launches and a contract with NASA to transport astronauts to the International Space Station.\n",
      "3. **Tesla, Inc.**: In 2004, Musk co-founded Tesla, Inc., which has become one of the leading electric vehicle manufacturers in the world. The company has played a significant role in popularizing electric vehicles and has expanded its product line to include energy storage systems and solar panels.\n",
      "4. **Neuralink and The Boring Company**: In 2016, Musk co-founded Neuralink, a neurotechnology company that aims to integrate the human brain with computers. He also founded The Boring Company, which is working on advanced transportation systems, including high-speed tunnels and elevators.\n",
      "\n",
      "**Personal Life and Philanthropy**\n",
      "\n",
      "Musk is known for his demanding work ethic and has stated that he works over 100 hours per week. He has been married three times and has seven children. Musk is also known for his philanthropic efforts, particularly in the area of renewable energy and space exploration. He has donated to various causes, including the Cleantech Open, the Sierra Club, and the SolarCity Foundation.\n",
      "\n",
      "**Controversies and Criticisms**\n",
      "\n",
      "Musk has been involved in several controversies and criticisms throughout his career, including:\n",
      "\n",
      "* **Twitter outbursts**: Musk has been known to make impulsive and sometimes erratic tweets, which have led to controversy and criticism.\n",
      "* **Workplace culture**: Musk has been criticized for his demanding work ethic and the high stress levels at his companies.\n",
      "* **Environmental concerns**: Musk has been criticized for his role in the development of lithium-ion batteries, which have been linked to environmental concerns.\n",
      "* **SpaceX's environmental impact**: Musk's SpaceX has been criticized for its environmental impact, including the carbon emissions from its rocket launches.\n",
      "\n",
      "Overall, Elon Musk is a highly influential and innovative entrepreneur who has made significant contributions to the fields of transportation, energy, and space exploration. While he has been involved in controversies and criticisms, his vision and leadership have inspired a new generation of entrepreneurs and innovators.\n"
     ]
    }
   ],
   "source": [
    "from langchain_groq import ChatGroq\n",
    "llm = ChatGroq(\n",
    "    temperature=0, \n",
    "    groq_api_key='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', \n",
    "    model_name=\"llama-3.1-70b-versatile\"\n",
    ")\n",
    "\n",
    "response = llm.invoke(\"who is elonmusk\")\n",
    "print(response.content)"
   ]
  },
  {
   "cell_type": "code",
   "execution_count": 3,
   "metadata": {},
   "outputs": [],
   "source": [
    "import chromadb\n",
    "client = chromadb.Client()\n",
    "collection = client.create_collection(name=\"my_collection\")"
   ]
  },
  {
   "cell_type": "code",
   "execution_count": 4,
   "metadata": {},
   "outputs": [
    {
     "name": "stderr",
     "output_type": "stream",
     "text": [
      "C:\\Users\\krish\\.cache\\chroma\\onnx_models\\all-MiniLM-L6-v2\\onnx.tar.gz: 100%|██████████| 79.3M/79.3M [00:19<00:00, 4.25MiB/s]\n"
     ]
    }
   ],
   "source": [
    "collection.add(\n",
    "    documents=[\n",
    "        \"This document is about New York\",\n",
    "        \"This document is about Delhi\"\n",
    "    ],\n",
    "    ids = ['id1', 'id2']\n",
    ")"
   ]
  },
  {
   "cell_type": "code",
   "execution_count": 6,
   "metadata": {},
   "outputs": [
    {
     "data": {
      "text/plain": [
       "{'ids': ['id1', 'id2'],\n",
       " 'embeddings': None,\n",
       " 'metadatas': [None, None],\n",
       " 'documents': ['This document is about New York',\n",
       "  'This document is about Delhi'],\n",
       " 'uris': None,\n",
       " 'data': None}"
      ]
     },
     "execution_count": 6,
     "metadata": {},
     "output_type": "execute_result"
    }
   ],
   "source": [
    "info_docs=collection.get()\n",
    "info_docs"
   ]
  },
  {
   "cell_type": "code",
   "execution_count": 10,
   "metadata": {},
   "outputs": [
    {
     "data": {
      "text/plain": [
       "{'ids': [['id2', 'id1']],\n",
       " 'distances': [[1.3819845914840698, 2.0129342079162598]],\n",
       " 'metadatas': [[None, None]],\n",
       " 'embeddings': None,\n",
       " 'documents': [['This document is about Delhi',\n",
       "   'This document is about New York']],\n",
       " 'uris': None,\n",
       " 'data': None}"
      ]
     },
     "execution_count": 10,
     "metadata": {},
     "output_type": "execute_result"
    }
   ],
   "source": [
    "results=collection.query(\n",
    "    query_texts=[\"sundar pichai is from andhrapradesh\"],\n",
    "    n_results=2  \n",
    ")\n",
    "results"
   ]
  },
  {
   "cell_type": "code",
   "execution_count": 13,
   "metadata": {},
   "outputs": [
    {
     "name": "stderr",
     "output_type": "stream",
     "text": [
      "Insert of existing embedding ID: id3\n",
      "Insert of existing embedding ID: id4\n",
      "Add of existing embedding ID: id3\n",
      "Add of existing embedding ID: id4\n"
     ]
    },
    {
     "data": {
      "text/plain": [
       "{'ids': ['id1', 'id2', 'id3', 'id4'],\n",
       " 'embeddings': None,\n",
       " 'metadatas': [None,\n",
       "  None,\n",
       "  {'url': 'https://en.wikipedia.org/wiki/New_York_City'},\n",
       "  {'url': 'https://en.wikipedia.org/wiki/New_Delhi'}],\n",
       " 'documents': ['This document is about New York',\n",
       "  'This document is about Delhi',\n",
       "  'This document is about New York',\n",
       "  'This document is about Delhi'],\n",
       " 'uris': None,\n",
       " 'data': None}"
      ]
     },
     "execution_count": 13,
     "metadata": {},
     "output_type": "execute_result"
    }
   ],
   "source": [
    "collection.add(\n",
    "    documents=[\n",
    "        \"This document is about New York\",\n",
    "        \"This document is about Delhi\"\n",
    "    ],\n",
    "    ids=[\"id3\", \"id4\"],\n",
    "    metadatas=[\n",
    "        {\"url\": \"https://en.wikipedia.org/wiki/New_York_City\"},\n",
    "        {\"url\": \"https://en.wikipedia.org/wiki/New_Delhi\"}\n",
    "    ]\n",
    ")\n",
    "info_docs=collection.get()\n",
    "info_docs"
   ]
  },
  {
   "cell_type": "code",
   "execution_count": 14,
   "metadata": {},
   "outputs": [
    {
     "name": "stderr",
     "output_type": "stream",
     "text": [
      "Delete of nonexisting embedding ID: ids\n",
      "Delete of nonexisting embedding ID: ids\n"
     ]
    }
   ],
   "source": [
    "collection.delete('ids')"
   ]
  },
  {
   "cell_type": "code",
   "execution_count": 16,
   "metadata": {},
   "outputs": [
    {
     "data": {
      "text/plain": [
       "{'ids': ['id1', 'id2', 'id3', 'id4'],\n",
       " 'embeddings': None,\n",
       " 'metadatas': [None,\n",
       "  None,\n",
       "  {'url': 'https://en.wikipedia.org/wiki/New_York_City'},\n",
       "  {'url': 'https://en.wikipedia.org/wiki/New_Delhi'}],\n",
       " 'documents': ['This document is about New York',\n",
       "  'This document is about Delhi',\n",
       "  'This document is about New York',\n",
       "  'This document is about Delhi'],\n",
       " 'uris': None,\n",
       " 'data': None}"
      ]
     },
     "execution_count": 16,
     "metadata": {},
     "output_type": "execute_result"
    }
   ],
   "source": [
    "collection.get()"
   ]
  },
  {
   "cell_type": "code",
   "execution_count": 25,
   "metadata": {},
   "outputs": [
    {
     "name": "stdout",
     "output_type": "stream",
     "text": [
      "job ads - Google SearchGoogle×Please click here if you are not redirected within a few seconds.    AllImagesNewsVideos Maps Shopping Books Search tools    Any timeAny timePast hourPast 24 hoursPast weekPast monthPast yearAll resultsAll resultsVerbatimPosting Jobs In Hyderabad Secunderabad - Naukri.comwww.naukri.com › Jobs in Hyderabad Secunderabad › Posting jobsApply To 10429 Posting Jobs In Hyderabad Secunderabad On Naukri.com, India's No.1 Job Portal. Explore Posting Job Openings In Hyderabad ...Post Jobs in Hyderabad - OLXwww.olx.in › Jobs › Jobs in Telangana › Jobs in HyderabadPost Jobs in Hyderabad · Instagram Post Scheduler Needed! · Ad posting and telecalling work from home · Urgently required back office executive ---only 10 posts ...200 Free Posting Job Vacancies in Hyderabad, Telangana - Indeedin.indeed.com › q-free-posting-l-hyderabad,-telangana-jobsfree posting jobs in hyderabad, telangana · Chat Support Executive · Associate Operations Processor · Financial Crimes Associate · Order Management Associate.9,000 Job Vacancies in Hyderabad, Telangana | Indeed.comin.indeed.com › l-hyderabad,-telangana-jobsjobs in hyderabad, telangana ; delivery Boy/Girl. Gairme Solutions. Hyderabad District, Telangana ; HOD Social Science · Delhi School of Excellence Banjara Hills.Advertising Jobs In Hyderabad Secunderabad - Naukri.comwww.naukri.com › Jobs in Hyderabad Secunderabad › Advertising jobsApply To 3531 Advertising Jobs In Hyderabad Secunderabad On Naukri.com, India's No.1 Job Portal. Explore Advertising Job Openings In Hyderabad ...JOBS - Hyderabad - Explore Eenadu Classifiedswww.eenaduclassifieds.com › listings › jobs › any › hyderabad-cityBrowse a diverse range of job listings on Eenadu Classifieds, including accounting, advertising, engineering, medical, and more. Find your next career ...Free Job Posting Sites In Hyderabadcorp.freshersworld.com › post-job-in-hyderabadFreshersworld.com is among the top 10 free job posting sites in Hyderabad where 1000+ companies have listed their jobs.Post Ad Jobs in Hyderabad - OLXwww.olx.in › Jobs › Jobs in Telangana › Jobs in HyderabadPost Ad Jobs in Hyderabad · Ad posting and telecalling work from home · Displaying ads within 10 kms from Hyderabad, Telangana · Just ads posting jobs in all ...People also askWhat is an ad for a job?How to write the job advertisement?How to give job ads?How do I get hired for ads?Job Postings: How to Advertise Your Jobs - SmartRecruiterswww.smartrecruiters.com › resources › glossary › job-postingAlso known as job ads, job postings are the primary means through which companies recruit new applicants for available positions.What is a Job Posting? · Characteristics of an effective... · What is job advertising?Job Search on Google - Get Your Job Postings on Google Todayjobs.google.com › aboutGoogle brings together job postings from across the web. Have your job postings found by millions of job seekers who search on Google every day.People also search forJob ads in hyderabadJob ads appJob ads todayJob ads near meToday job classifieds in HyderabadEenadu paper Classifieds jobs todayUrgent Jobs in HyderabadFree job posting sites  Next >  Hyderabad, TelanganaFrom your IP address - Learn moreSign inSettingsPrivacyTermsDark theme: Off \n"
     ]
    }
   ],
   "source": [
    "from langchain_community.document_loaders import WebBaseLoader\n",
    "loader=WebBaseLoader(\"https://g.co/kgs/JHHNzYK\")\n",
    "page_data=loader.load().pop().page_content\n",
    "print(page_data)"
   ]
  },
  {
   "cell_type": "code",
   "execution_count": 26,
   "metadata": {},
   "outputs": [
    {
     "data": {
      "text/plain": [
       "str"
      ]
     },
     "execution_count": 26,
     "metadata": {},
     "output_type": "execute_result"
    }
   ],
   "source": [
    "from langchain_core.prompts import PromptTemplate\n",
    "prompt_extract=PromptTemplate.from_template(\n",
    "    \"\"\"\n",
    "    ### SCRAPED TEXT FROM WEBSITE:\n",
    "        {page_data}\n",
    "        ### INSTRUCTION:\n",
    "        The scraped text is from the career's page of a website.\n",
    "        Your job is to extract the job postings and return them in JSON format containing the \n",
    "        following keys: `role`, `experience`, `skills` and `description`.\n",
    "        Only return the valid JSON.\n",
    "        ### VALID JSON (NO PREAMBLE):   \n",
    " \"\"\"\n",
    ")\n",
    "chain_extract=prompt_extract|llm\n",
    "res = chain_extract.invoke(input={'page_data':page_data})\n",
    "type(res.content)"
   ]
  },
  {
   "cell_type": "code",
   "execution_count": 27,
   "metadata": {},
   "outputs": [
    {
     "data": {
      "text/plain": [
       "'[\\n  {\\n    \"role\": \"Posting Jobs\",\\n    \"experience\": \"\",\\n    \"skills\": \"\",\\n    \"description\": \"Apply To 10429 Posting Jobs In Hyderabad Secunderabad On Naukri.com, India\\'s No.1 Job Portal.\"\\n  },\\n  {\\n    \"role\": \"Instagram Post Scheduler\",\\n    \"experience\": \"\",\\n    \"skills\": \"\",\\n    \"description\": \"Needed for posting jobs in Hyderabad\"\\n  },\\n  {\\n    \"role\": \"Ad posting and telecalling\",\\n    \"experience\": \"\",\\n    \"skills\": \"\",\\n    \"description\": \"Work from home job opportunity in Hyderabad\"\\n  },\\n  {\\n    \"role\": \"Back Office Executive\",\\n    \"experience\": \"\",\\n    \"skills\": \"\",\\n    \"description\": \"Only 10 posts available, urgently required in Hyderabad\"\\n  },\\n  {\\n    \"role\": \"Chat Support Executive\",\\n    \"experience\": \"\",\\n    \"skills\": \"\",\\n    \"description\": \"Free posting job vacancy in Hyderabad, Telangana\"\\n  },\\n  {\\n    \"role\": \"Associate Operations Processor\",\\n    \"experience\": \"\",\\n    \"skills\": \"\",\\n    \"description\": \"Free posting job vacancy in Hyderabad, Telangana\"\\n  },\\n  {\\n    \"role\": \"Financial Crimes Associate\",\\n    \"experience\": \"\",\\n    \"skills\": \"\",\\n    \"description\": \"Free posting job vacancy in Hyderabad, Telangana\"\\n  },\\n  {\\n    \"role\": \"Order Management Associate\",\\n    \"experience\": \"\",\\n    \"skills\": \"\",\\n    \"description\": \"Free posting job vacancy in Hyderabad, Telangana\"\\n  },\\n  {\\n    \"role\": \"Delivery Boy/Girl\",\\n    \"experience\": \"\",\\n    \"skills\": \"\",\\n    \"description\": \"Job vacancy in Hyderabad District, Telangana\"\\n  },\\n  {\\n    \"role\": \"HOD Social Science\",\\n    \"experience\": \"\",\\n    \"skills\": \"\",\\n    \"description\": \"Job vacancy at Delhi School of Excellence Banjara Hills\"\\n  }\\n]'"
      ]
     },
     "execution_count": 27,
     "metadata": {},
     "output_type": "execute_result"
    }
   ],
   "source": [
    "res.content"
   ]
  },
  {
   "cell_type": "code",
   "execution_count": 32,
   "metadata": {},
   "outputs": [
    {
     "data": {
      "text/plain": [
       "[{'role': 'Posting Jobs',\n",
       "  'experience': '',\n",
       "  'skills': '',\n",
       "  'description': \"Apply To 10429 Posting Jobs In Hyderabad Secunderabad On Naukri.com, India's No.1 Job Portal.\"},\n",
       " {'role': 'Instagram Post Scheduler',\n",
       "  'experience': '',\n",
       "  'skills': '',\n",
       "  'description': 'Needed for posting jobs in Hyderabad'},\n",
       " {'role': 'Ad posting and telecalling',\n",
       "  'experience': '',\n",
       "  'skills': '',\n",
       "  'description': 'Work from home job opportunity in Hyderabad'},\n",
       " {'role': 'Back Office Executive',\n",
       "  'experience': '',\n",
       "  'skills': '',\n",
       "  'description': 'Only 10 posts available, urgently required in Hyderabad'},\n",
       " {'role': 'Chat Support Executive',\n",
       "  'experience': '',\n",
       "  'skills': '',\n",
       "  'description': 'Free posting job vacancy in Hyderabad, Telangana'},\n",
       " {'role': 'Associate Operations Processor',\n",
       "  'experience': '',\n",
       "  'skills': '',\n",
       "  'description': 'Free posting job vacancy in Hyderabad, Telangana'},\n",
       " {'role': 'Financial Crimes Associate',\n",
       "  'experience': '',\n",
       "  'skills': '',\n",
       "  'description': 'Free posting job vacancy in Hyderabad, Telangana'},\n",
       " {'role': 'Order Management Associate',\n",
       "  'experience': '',\n",
       "  'skills': '',\n",
       "  'description': 'Free posting job vacancy in Hyderabad, Telangana'},\n",
       " {'role': 'Delivery Boy/Girl',\n",
       "  'experience': '',\n",
       "  'skills': '',\n",
       "  'description': 'Job vacancy in Hyderabad District, Telangana'},\n",
       " {'role': 'HOD Social Science',\n",
       "  'experience': '',\n",
       "  'skills': '',\n",
       "  'description': 'Job vacancy at Delhi School of Excellence Banjara Hills'}]"
      ]
     },
     "execution_count": 32,
     "metadata": {},
     "output_type": "execute_result"
    }
   ],
   "source": [
    "from langchain_core.output_parsers import JsonOutputParser\n",
    "\n",
    "json_parser = JsonOutputParser()\n",
    "json_res = json_parser.parse(res.content)\n",
    "json_res"
   ]
  },
  {
   "cell_type": "code",
   "execution_count": 33,
   "metadata": {},
   "outputs": [
    {
     "data": {
      "text/html": [
       "<div>\n",
       "<style scoped>\n",
       "    .dataframe tbody tr th:only-of-type {\n",
       "        vertical-align: middle;\n",
       "    }\n",
       "\n",
       "    .dataframe tbody tr th {\n",
       "        vertical-align: top;\n",
       "    }\n",
       "\n",
       "    .dataframe thead th {\n",
       "        text-align: right;\n",
       "    }\n",
       "</style>\n",
       "<table border=\"1\" class=\"dataframe\">\n",
       "  <thead>\n",
       "    <tr style=\"text-align: right;\">\n",
       "      <th></th>\n",
       "      <th>Techstack</th>\n",
       "      <th>Links</th>\n",
       "    </tr>\n",
       "  </thead>\n",
       "  <tbody>\n",
       "    <tr>\n",
       "      <th>0</th>\n",
       "      <td>React, Node.js, MongoDB</td>\n",
       "      <td>https://example.com/react-portfolio</td>\n",
       "    </tr>\n",
       "    <tr>\n",
       "      <th>1</th>\n",
       "      <td>Angular,.NET, SQL Server</td>\n",
       "      <td>https://example.com/angular-portfolio</td>\n",
       "    </tr>\n",
       "    <tr>\n",
       "      <th>2</th>\n",
       "      <td>Vue.js, Ruby on Rails, PostgreSQL</td>\n",
       "      <td>https://example.com/vue-portfolio</td>\n",
       "    </tr>\n",
       "    <tr>\n",
       "      <th>3</th>\n",
       "      <td>Python, Django, MySQL</td>\n",
       "      <td>https://example.com/python-portfolio</td>\n",
       "    </tr>\n",
       "    <tr>\n",
       "      <th>4</th>\n",
       "      <td>Java, Spring Boot, Oracle</td>\n",
       "      <td>https://example.com/java-portfolio</td>\n",
       "    </tr>\n",
       "  </tbody>\n",
       "</table>\n",
       "</div>"
      ],
      "text/plain": [
       "                           Techstack                                  Links\n",
       "0            React, Node.js, MongoDB    https://example.com/react-portfolio\n",
       "1           Angular,.NET, SQL Server  https://example.com/angular-portfolio\n",
       "2  Vue.js, Ruby on Rails, PostgreSQL      https://example.com/vue-portfolio\n",
       "3              Python, Django, MySQL   https://example.com/python-portfolio\n",
       "4          Java, Spring Boot, Oracle     https://example.com/java-portfolio"
      ]
     },
     "execution_count": 33,
     "metadata": {},
     "output_type": "execute_result"
    }
   ],
   "source": [
    "import pandas as pd\n",
    "df=pd.read_csv(\"my_portfolio.csv\")\n",
    "df.head()"
   ]
  },
  {
   "cell_type": "code",
   "execution_count": 38,
   "metadata": {},
   "outputs": [
    {
     "data": {
      "text/plain": [
       "list"
      ]
     },
     "execution_count": 38,
     "metadata": {},
     "output_type": "execute_result"
    }
   ],
   "source": [
    "job = json_res\n",
    "type(json_res)\n"
   ]
  },
  {
   "cell_type": "code",
   "execution_count": 40,
   "metadata": {},
   "outputs": [],
   "source": [
    "import uuid\n",
    "import chromadb\n",
    "\n",
    "client = chromadb.PersistentClient('vectorstore')\n",
    "collection = client.get_or_create_collection(name=\"portfolio\")\n",
    "\n",
    "if not collection.count():\n",
    "    for _, row in df.iterrows():\n",
    "        collection.add(documents=row[\"Techstack\"],\n",
    "                       metadatas={\"links\": row[\"Links\"]},\n",
    "                       ids=[str(uuid.uuid4())])\n"
   ]
  },
  {
   "cell_type": "code",
   "execution_count": 41,
   "metadata": {},
   "outputs": [
    {
     "ename": "TypeError",
     "evalue": "list indices must be integers or slices, not str",
     "output_type": "error",
     "traceback": [
      "\u001b[1;31m---------------------------------------------------------------------------\u001b[0m",
      "\u001b[1;31mTypeError\u001b[0m                                 Traceback (most recent call last)",
      "Cell \u001b[1;32mIn[41], line 1\u001b[0m\n\u001b[1;32m----> 1\u001b[0m links \u001b[38;5;241m=\u001b[39m collection\u001b[38;5;241m.\u001b[39mquery(query_texts\u001b[38;5;241m=\u001b[39m\u001b[43mjob\u001b[49m\u001b[43m[\u001b[49m\u001b[38;5;124;43m'\u001b[39;49m\u001b[38;5;124;43mskills\u001b[39;49m\u001b[38;5;124;43m'\u001b[39;49m\u001b[43m]\u001b[49m, n_results\u001b[38;5;241m=\u001b[39m\u001b[38;5;241m2\u001b[39m)\u001b[38;5;241m.\u001b[39mget(\u001b[38;5;124m'\u001b[39m\u001b[38;5;124mmetadatas\u001b[39m\u001b[38;5;124m'\u001b[39m, [])\n\u001b[0;32m      2\u001b[0m links\n",
      "\u001b[1;31mTypeError\u001b[0m: list indices must be integers or slices, not str"
     ]
    }
   ],
   "source": [
    "links = collection.query(query_texts=job['skills'], n_results=2).get('metadatas', [])\n",
    "links"
   ]
  },
  {
   "cell_type": "code",
   "execution_count": 42,
   "metadata": {},
   "outputs": [
    {
     "ename": "NameError",
     "evalue": "name 'links' is not defined",
     "output_type": "error",
     "traceback": [
      "\u001b[1;31m---------------------------------------------------------------------------\u001b[0m",
      "\u001b[1;31mNameError\u001b[0m                                 Traceback (most recent call last)",
      "Cell \u001b[1;32mIn[42], line 22\u001b[0m\n\u001b[0;32m      1\u001b[0m prompt_email \u001b[38;5;241m=\u001b[39m PromptTemplate\u001b[38;5;241m.\u001b[39mfrom_template(\n\u001b[0;32m      2\u001b[0m \u001b[38;5;250m        \u001b[39m\u001b[38;5;124;03m\"\"\"\u001b[39;00m\n\u001b[0;32m      3\u001b[0m \u001b[38;5;124;03m        ### JOB DESCRIPTION:\u001b[39;00m\n\u001b[1;32m   (...)\u001b[0m\n\u001b[0;32m     18\u001b[0m \u001b[38;5;124;03m        \"\"\"\u001b[39;00m\n\u001b[0;32m     19\u001b[0m         )\n\u001b[0;32m     21\u001b[0m chain_email \u001b[38;5;241m=\u001b[39m prompt_email \u001b[38;5;241m|\u001b[39m llm\n\u001b[1;32m---> 22\u001b[0m res \u001b[38;5;241m=\u001b[39m chain_email\u001b[38;5;241m.\u001b[39minvoke({\u001b[38;5;124m\"\u001b[39m\u001b[38;5;124mjob_description\u001b[39m\u001b[38;5;124m\"\u001b[39m: \u001b[38;5;28mstr\u001b[39m(job), \u001b[38;5;124m\"\u001b[39m\u001b[38;5;124mlink_list\u001b[39m\u001b[38;5;124m\"\u001b[39m: \u001b[43mlinks\u001b[49m})\n\u001b[0;32m     23\u001b[0m \u001b[38;5;28mprint\u001b[39m(res\u001b[38;5;241m.\u001b[39mcontent)\n",
      "\u001b[1;31mNameError\u001b[0m: name 'links' is not defined"
     ]
    }
   ],
   "source": [
    "prompt_email = PromptTemplate.from_template(\n",
    "        \"\"\"\n",
    "        ### JOB DESCRIPTION:\n",
    "        {job_description}\n",
    "        \n",
    "        ### INSTRUCTION:\n",
    "        You are Mohan, a business development executive at AtliQ. AtliQ is an AI & Software Consulting company dedicated to facilitating\n",
    "        the seamless integration of business processes through automated tools. \n",
    "        Over our experience, we have empowered numerous enterprises with tailored solutions, fostering scalability, \n",
    "        process optimization, cost reduction, and heightened overall efficiency. \n",
    "        Your job is to write a cold email to the client regarding the job mentioned above describing the capability of AtliQ \n",
    "        in fulfilling their needs.\n",
    "        Also add the most relevant ones from the following links to showcase Atliq's portfolio: {link_list}\n",
    "        Remember you are Mohan, BDE at AtliQ. \n",
    "        Do not provide a preamble.\n",
    "        ### EMAIL (NO PREAMBLE):\n",
    "        \n",
    "        \"\"\"\n",
    "        )\n",
    "\n",
    "chain_email = prompt_email | llm\n",
    "res = chain_email.invoke({\"job_description\": str(job), \"link_list\": links})\n",
    "print(res.content)"
   ]
  }
 ],
 "metadata": {
  "kernelspec": {
   "display_name": "mygroq",
   "language": "python",
   "name": "python3"
  },
  "language_info": {
   "codemirror_mode": {
    "name": "ipython",
    "version": 3
   },
   "file_extension": ".py",
   "mimetype": "text/x-python",
   "name": "python",
   "nbconvert_exporter": "python",
   "pygments_lexer": "ipython3",
   "version": "3.11.9"
  }
 },
 "nbformat": 4,
 "nbformat_minor": 2
}
